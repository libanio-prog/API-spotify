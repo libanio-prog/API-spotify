{
 "cells": [
  {
   "cell_type": "code",
   "execution_count": 1,
   "id": "c0d5c62b",
   "metadata": {},
   "outputs": [
    {
     "name": "stdout",
     "output_type": "stream",
     "text": [
      "Defaulting to user installation because normal site-packages is not writeable\n",
      "Requirement already satisfied: spotipy in /home/oem/.local/lib/python3.10/site-packages (2.21.0)\n",
      "Requirement already satisfied: redis>=3.5.3 in /home/oem/.local/lib/python3.10/site-packages (from spotipy) (4.3.5)\n",
      "Requirement already satisfied: requests>=2.25.0 in /usr/lib/python3/dist-packages (from spotipy) (2.25.1)\n",
      "Requirement already satisfied: urllib3>=1.26.0 in /usr/lib/python3/dist-packages (from spotipy) (1.26.5)\n",
      "Requirement already satisfied: six>=1.15.0 in /usr/lib/python3/dist-packages (from spotipy) (1.16.0)\n",
      "Requirement already satisfied: async-timeout>=4.0.2 in /home/oem/.local/lib/python3.10/site-packages (from redis>=3.5.3->spotipy) (4.0.2)\n",
      "Requirement already satisfied: packaging>=20.4 in /usr/local/lib/python3.10/dist-packages (from redis>=3.5.3->spotipy) (21.3)\n",
      "Requirement already satisfied: pyparsing!=3.0.5,>=2.0.2 in /usr/lib/python3/dist-packages (from packaging>=20.4->redis>=3.5.3->spotipy) (2.4.7)\n"
     ]
    }
   ],
   "source": [
    "!pip install spotipy"
   ]
  },
  {
   "cell_type": "code",
   "execution_count": 2,
   "id": "59204dfd",
   "metadata": {},
   "outputs": [
    {
     "name": "stdout",
     "output_type": "stream",
     "text": [
      "0 País do Futebol\n",
      "1 E.M.I.C.I.D.A (Adoooro)\n",
      "2 Levanta e Anda\n",
      "3 Eminência parda\n",
      "4 Mantra (Feat. Emicida)\n",
      "5 Pipa Voada (feat. Emicida)\n",
      "6 Eminência Parda\n",
      "7 Não Quero Vingança - Spotify Singles\n",
      "8 DESCOBRIDOR\n",
      "9 Camarão Que Dorme a Onda Leva\n",
      "10 Principia\n",
      "11 Deixa acontecer\n",
      "12 Passarinhos\n",
      "13 Gueto\n",
      "14 Hoje Cedo\n",
      "15 AmarElo (Sample: Sujeito de Sorte - Belchior)\n",
      "16 Eminência Parda (Ao Vivo)\n",
      "17 Bonjour\n",
      "18 Eu Gosto Dela\n",
      "19 Emicidio\n"
     ]
    }
   ],
   "source": [
    "import spotipy\n",
    "from spotipy.oauth2 import SpotifyClientCredentials\n",
    "\n",
    "sp = spotipy.Spotify(auth_manager=SpotifyClientCredentials(client_id=\"\",\n",
    "                                                           client_secret=\"\"))\n",
    "\n",
    "results = sp.search(q='Emicida', limit=20)\n",
    "for idx, track in enumerate(results['tracks']['items']):\n",
    "    print(idx, track['name'])\n"
   ]
  },
  {
   "cell_type": "code",
   "execution_count": 22,
   "id": "89106f6d",
   "metadata": {},
   "outputs": [],
   "source": []
  },
  {
   "cell_type": "code",
   "execution_count": null,
   "id": "2f5c2dbf",
   "metadata": {},
   "outputs": [],
   "source": []
  }
 ],
 "metadata": {
  "kernelspec": {
   "display_name": "Python 3 (ipykernel)",
   "language": "python",
   "name": "python3"
  },
  "language_info": {
   "codemirror_mode": {
    "name": "ipython",
    "version": 3
   },
   "file_extension": ".py",
   "mimetype": "text/x-python",
   "name": "python",
   "nbconvert_exporter": "python",
   "pygments_lexer": "ipython3",
   "version": "3.10.6"
  }
 },
 "nbformat": 4,
 "nbformat_minor": 5
}
